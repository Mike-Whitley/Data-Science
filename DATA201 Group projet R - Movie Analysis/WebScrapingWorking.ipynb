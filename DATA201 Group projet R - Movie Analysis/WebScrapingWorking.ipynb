{
 "cells": [
  {
   "cell_type": "code",
   "execution_count": 2,
   "metadata": {
    "collapsed": true,
    "jupyter": {
     "outputs_hidden": true
    }
   },
   "outputs": [
    {
     "name": "stderr",
     "output_type": "stream",
     "text": [
      "── \u001b[1mAttaching packages\u001b[22m ─────────────────────────────────────── tidyverse 1.2.1 ──\n",
      "\u001b[32m✔\u001b[39m \u001b[34mggplot2\u001b[39m 3.2.0     \u001b[32m✔\u001b[39m \u001b[34mpurrr  \u001b[39m 0.3.2\n",
      "\u001b[32m✔\u001b[39m \u001b[34mtibble \u001b[39m 2.1.3     \u001b[32m✔\u001b[39m \u001b[34mdplyr  \u001b[39m 0.8.3\n",
      "\u001b[32m✔\u001b[39m \u001b[34mtidyr  \u001b[39m 0.8.3     \u001b[32m✔\u001b[39m \u001b[34mstringr\u001b[39m 1.4.0\n",
      "\u001b[32m✔\u001b[39m \u001b[34mreadr  \u001b[39m 1.3.1     \u001b[32m✔\u001b[39m \u001b[34mforcats\u001b[39m 0.4.0\n",
      "── \u001b[1mConflicts\u001b[22m ────────────────────────────────────────── tidyverse_conflicts() ──\n",
      "\u001b[31m✖\u001b[39m \u001b[34mdplyr\u001b[39m::\u001b[32mfilter()\u001b[39m masks \u001b[34mstats\u001b[39m::filter()\n",
      "\u001b[31m✖\u001b[39m \u001b[34mdplyr\u001b[39m::\u001b[32mlag()\u001b[39m    masks \u001b[34mstats\u001b[39m::lag()\n"
     ]
    }
   ],
   "source": [
    "library(tidyverse)"
   ]
  },
  {
   "cell_type": "code",
   "execution_count": 3,
   "metadata": {
    "collapsed": true,
    "jupyter": {
     "outputs_hidden": true
    }
   },
   "outputs": [
    {
     "name": "stdout",
     "output_type": "stream",
     "text": [
      "\n",
      "The downloaded binary packages are in\n",
      "\t/var/folders/_n/9xvdch1x48x0yw5djjygcgsw0000gn/T//Rtmp6OpVhQ/downloaded_packages\n",
      "\n",
      "The downloaded binary packages are in\n",
      "\t/var/folders/_n/9xvdch1x48x0yw5djjygcgsw0000gn/T//Rtmp6OpVhQ/downloaded_packages\n",
      "\n",
      "The downloaded binary packages are in\n",
      "\t/var/folders/_n/9xvdch1x48x0yw5djjygcgsw0000gn/T//Rtmp6OpVhQ/downloaded_packages\n",
      "\n",
      "The downloaded binary packages are in\n",
      "\t/var/folders/_n/9xvdch1x48x0yw5djjygcgsw0000gn/T//Rtmp6OpVhQ/downloaded_packages\n"
     ]
    }
   ],
   "source": [
    "install.packages(\"magrittr\")\n",
    "install.packages(\"purrr\")\n",
    "install.packages(\"glue\")\n",
    "install.packages(\"stringr\")\n"
   ]
  },
  {
   "cell_type": "code",
   "execution_count": 5,
   "metadata": {
    "collapsed": true,
    "jupyter": {
     "outputs_hidden": true
    }
   },
   "outputs": [
    {
     "name": "stdout",
     "output_type": "stream",
     "text": [
      "\n",
      "The downloaded binary packages are in\n",
      "\t/var/folders/_n/9xvdch1x48x0yw5djjygcgsw0000gn/T//Rtmp9GAIOH/downloaded_packages\n"
     ]
    }
   ],
   "source": [
    "install.packages(\"rvest\")"
   ]
  },
  {
   "cell_type": "code",
   "execution_count": 7,
   "metadata": {
    "collapsed": true,
    "jupyter": {
     "outputs_hidden": true
    }
   },
   "outputs": [
    {
     "name": "stderr",
     "output_type": "stream",
     "text": [
      "Skipping install of 'polite' from a github remote, the SHA1 (def0def9) has not changed since last install.\n",
      "  Use `force = TRUE` to force installation\n"
     ]
    }
   ],
   "source": [
    "remotes::install_github(\"dmi3kno/polite\")"
   ]
  },
  {
   "cell_type": "code",
   "execution_count": 10,
   "metadata": {
    "collapsed": true,
    "jupyter": {
     "outputs_hidden": true
    }
   },
   "outputs": [
    {
     "name": "stdout",
     "output_type": "stream",
     "text": [
      "\n",
      "The downloaded binary packages are in\n",
      "\t/var/folders/_n/9xvdch1x48x0yw5djjygcgsw0000gn/T//Rtmp6OpVhQ/downloaded_packages\n"
     ]
    }
   ],
   "source": [
    "install.packages(\"xml2\")"
   ]
  },
  {
   "cell_type": "code",
   "execution_count": 50,
   "metadata": {},
   "outputs": [],
   "source": [
    "library(rvest) # rvest makes scraping easier"
   ]
  },
  {
   "cell_type": "code",
   "execution_count": 48,
   "metadata": {},
   "outputs": [],
   "source": [
    "library(polite) # polite is the \"polite\" version of rvest"
   ]
  },
  {
   "cell_type": "code",
   "execution_count": 52,
   "metadata": {},
   "outputs": [
    {
     "data": {
      "text/plain": [
       "{html_document}\n",
       "<html>\n",
       "[1] <head>\\n<!-- Global site tag (gtag.js) - Google Analytics --><script asyn ...\n",
       "[2] <body>\\n\\r\\n<script>\\r\\n  window.fbAsyncInit = function() {\\r\\n    FB.ini ..."
      ]
     },
     "metadata": {},
     "output_type": "display_data"
    }
   ],
   "source": [
    "movie_titles_url <- \"https://www.the-numbers.com/movie/budgets/all\" # this is the base url from where the scraping starts\n",
    "\n",
    "page_title <- read_html(movie_titles_url)\n",
    "page_title"
   ]
  },
  {
   "cell_type": "code",
   "execution_count": 160,
   "metadata": {},
   "outputs": [
    {
     "data": {
      "text/html": [
       "<ol>\n",
       "\t<li>'https://www.the-numbers.com/movie/budgets/all/1'</li>\n",
       "</ol>\n"
      ],
      "text/latex": [
       "\\begin{enumerate}\n",
       "\\item 'https://www.the-numbers.com/movie/budgets/all/1'\n",
       "\\end{enumerate}\n"
      ],
      "text/markdown": [
       "1. 'https://www.the-numbers.com/movie/budgets/all/1'\n",
       "\n",
       "\n"
      ],
      "text/plain": [
       "[[1]]\n",
       "[1] \"https://www.the-numbers.com/movie/budgets/all/1\"\n"
      ]
     },
     "metadata": {},
     "output_type": "display_data"
    }
   ],
   "source": [
    "mylist <- list() #Create a list to house all the urls \n",
    "for (page in seq(1:56)) { #loop through to get to 5001 adding it to the end of the url \n",
    "    #adde the url to the list\n",
    "    mylist <- c(mylist,as.character(paste0(\"https://www.the-numbers.com/movie/budgets/all/\" , ((page - 1)* 100) + 1)))\n",
    "}\n",
    "#sanity check\n",
    "mylist[1]"
   ]
  },
  {
   "cell_type": "code",
   "execution_count": 161,
   "metadata": {},
   "outputs": [
    {
     "data": {
      "text/html": [
       "56"
      ],
      "text/latex": [
       "56"
      ],
      "text/markdown": [
       "56"
      ],
      "text/plain": [
       "[1] 56"
      ]
     },
     "metadata": {},
     "output_type": "display_data"
    }
   ],
   "source": [
    "#Might take a while to run\n",
    "movie_titles_list <- list() #Create list to house the lists of nodes\n",
    "for(i in mylist){\n",
    "    page_html <- read_html(i) #read in the url and turn it into html\n",
    "    table_nodes <- page_html %>% html_nodes(\"table\") %>% html_table() # Get the table in the html and make a list row out of it\n",
    "    movie_titles_list <- append(movie_titles_list,table_nodes) #Append the table nodes to the list\n",
    "}\n",
    "#Check that something was obtained\n",
    "length(movie_titles_list)"
   ]
  },
  {
   "cell_type": "code",
   "execution_count": 193,
   "metadata": {},
   "outputs": [],
   "source": [
    "#Setting from and setting to, it is bad practice to have magic numbers in code and can lead to mistakes\n",
    "from <- 2\n",
    "to <- length(movie_titles_list)\n",
    "df <- data.frame(movie_titles_list[1]) #create the first dataframe\n",
    "for (i in from:to){ #start from 2 as use has been processed already\n",
    "    temp <- data.frame(movie_titles_list[i]) #create a temporary dataframe\n",
    "    df <- rbind(df,temp) #Using rbind the data can be merge vertically\n",
    "}"
   ]
  },
  {
   "cell_type": "code",
   "execution_count": 198,
   "metadata": {},
   "outputs": [
    {
     "data": {
      "text/html": [
       "<table>\n",
       "<caption>A data.frame: 5600 × 6</caption>\n",
       "<thead>\n",
       "\t<tr><th scope=col>Rank</th><th scope=col>ReleaseDate</th><th scope=col>Movie</th><th scope=col>ProductionBudget</th><th scope=col>DomesticGross</th><th scope=col>WorldwideGross</th></tr>\n",
       "\t<tr><th scope=col>&lt;chr&gt;</th><th scope=col>&lt;chr&gt;</th><th scope=col>&lt;chr&gt;</th><th scope=col>&lt;dbl&gt;</th><th scope=col>&lt;dbl&gt;</th><th scope=col>&lt;dbl&gt;</th></tr>\n",
       "</thead>\n",
       "<tbody>\n",
       "\t<tr><td>1 </td><td>Dec 17, 2009</td><td>Avatar                                          </td><td>425000000</td><td>760507625</td><td>2789705275</td></tr>\n",
       "\t<tr><td>2 </td><td>May 20, 2011</td><td>Pirates of the Caribbean: On Stranger Tides     </td><td>410600000</td><td>241063875</td><td>1045663875</td></tr>\n",
       "\t<tr><td>3 </td><td>Apr 23, 2019</td><td>Avengers: Endgame                               </td><td>400000000</td><td>858373000</td><td>2795473000</td></tr>\n",
       "\t<tr><td>4 </td><td>Jun 5, 2019 </td><td>Dark Phoenix                                    </td><td>350000000</td><td> 65845974</td><td> 246356895</td></tr>\n",
       "\t<tr><td>5 </td><td>Apr 22, 2015</td><td>Avengers: Age of Ultron                         </td><td>330600000</td><td>459005868</td><td>1403013963</td></tr>\n",
       "\t<tr><td>6 </td><td>Dec 13, 2017</td><td>Star Wars Ep. VIII: The Last Jedi               </td><td>317000000</td><td>620181382</td><td>1316721747</td></tr>\n",
       "\t<tr><td>7 </td><td>Dec 16, 2015</td><td>Star Wars Ep. VII: The Force Awakens            </td><td>306000000</td><td>936662225</td><td>2053311220</td></tr>\n",
       "\t<tr><td>8 </td><td>Apr 25, 2018</td><td>Avengers: Infinity War                          </td><td>300000000</td><td>678815482</td><td>2048134200</td></tr>\n",
       "\t<tr><td>9 </td><td>May 24, 2007</td><td>Pirates of the Caribbean: At World’s End        </td><td>300000000</td><td>309420425</td><td> 963420425</td></tr>\n",
       "\t<tr><td>10</td><td>Nov 13, 2017</td><td>Justice League                                  </td><td>300000000</td><td>229024295</td><td> 655945209</td></tr>\n",
       "\t<tr><td>11</td><td>Oct 6, 2015 </td><td>Spectre                                         </td><td>300000000</td><td>200074175</td><td> 879620923</td></tr>\n",
       "\t<tr><td>12</td><td>Jul 19, 2012</td><td>The Dark Knight Rises                           </td><td>275000000</td><td>448139099</td><td>1084439099</td></tr>\n",
       "\t<tr><td>13</td><td>May 23, 2018</td><td>Solo: A Star Wars Story                         </td><td>275000000</td><td>213767512</td><td> 393151347</td></tr>\n",
       "\t<tr><td>14</td><td>Jul 2, 2013 </td><td>The Lone Ranger                                 </td><td>275000000</td><td> 89302115</td><td> 260002115</td></tr>\n",
       "\t<tr><td>15</td><td>Mar 7, 2012 </td><td>John Carter                                     </td><td>275000000</td><td> 73058679</td><td> 282778100</td></tr>\n",
       "\t<tr><td>16</td><td>Nov 24, 2010</td><td>Tangled                                         </td><td>260000000</td><td>200821936</td><td> 586477240</td></tr>\n",
       "\t<tr><td>17</td><td>May 4, 2007 </td><td>Spider-Man 3                                    </td><td>258000000</td><td>336530303</td><td> 894860230</td></tr>\n",
       "\t<tr><td>18</td><td>Apr 22, 2016</td><td>Captain America: Civil War                      </td><td>250000000</td><td>408084349</td><td>1140069413</td></tr>\n",
       "\t<tr><td>19</td><td>Mar 23, 2016</td><td>Batman v Superman: Dawn of Justice              </td><td>250000000</td><td>330360194</td><td> 867500281</td></tr>\n",
       "\t<tr><td>20</td><td>Dec 11, 2012</td><td>The Hobbit: An Unexpected Journey               </td><td>250000000</td><td>303003568</td><td>1017003568</td></tr>\n",
       "\t<tr><td>21</td><td>Jul 15, 2009</td><td>Harry Potter and the Half-Blood Prince          </td><td>250000000</td><td>302089278</td><td> 935213767</td></tr>\n",
       "\t<tr><td>22</td><td>Dec 13, 2013</td><td>The Hobbit: The Desolation of Smaug             </td><td>250000000</td><td>258366855</td><td> 960366855</td></tr>\n",
       "\t<tr><td>23</td><td>Dec 10, 2014</td><td>The Hobbit: The Battle of the Five Armies       </td><td>250000000</td><td>255119788</td><td> 945577621</td></tr>\n",
       "\t<tr><td>24</td><td>Apr 7, 2017 </td><td>The Fate of the Furious                         </td><td>250000000</td><td>225764765</td><td>1234846267</td></tr>\n",
       "\t<tr><td>25</td><td>Jun 28, 2006</td><td>Superman Returns                                </td><td>232000000</td><td>200120000</td><td> 374085065</td></tr>\n",
       "\t<tr><td>26</td><td>May 23, 2017</td><td>Pirates of the Caribbean: Dead Men Tell No Tales</td><td>230000000</td><td>172558876</td><td> 788241137</td></tr>\n",
       "\t<tr><td>27</td><td>Nov 14, 2008</td><td>Quantum of Solace                               </td><td>230000000</td><td>169368427</td><td> 591692078</td></tr>\n",
       "\t<tr><td>28</td><td>Apr 25, 2012</td><td>The Avengers                                    </td><td>225000000</td><td>623279547</td><td>1517935897</td></tr>\n",
       "\t<tr><td>29</td><td>Jul 7, 2006 </td><td>Pirates of the Caribbean: Dead Man’s Chest      </td><td>225000000</td><td>423315812</td><td>1066215812</td></tr>\n",
       "\t<tr><td>30</td><td>Jun 14, 2013</td><td>Man of Steel                                    </td><td>225000000</td><td>291045518</td><td> 667999518</td></tr>\n",
       "\t<tr><td>⋮</td><td>⋮</td><td>⋮</td><td>⋮</td><td>⋮</td><td>⋮</td></tr>\n",
       "\t<tr><td>5,571</td><td>May 16, 1980</td><td>Home Movies                        </td><td>400000</td><td>   89134</td><td>   89134</td></tr>\n",
       "\t<tr><td>5,572</td><td>Jul 27, 2001</td><td>Jackpot                            </td><td>400000</td><td>   44452</td><td>   44452</td></tr>\n",
       "\t<tr><td>5,573</td><td>Dec 10, 2004</td><td>Fabled                             </td><td>400000</td><td>   31425</td><td>   31425</td></tr>\n",
       "\t<tr><td>5,574</td><td>Oct 13, 2005</td><td>The Dark Hours                     </td><td>400000</td><td>     423</td><td>     423</td></tr>\n",
       "\t<tr><td>5,575</td><td>Dec 19, 1973</td><td>Viskningar och rop                 </td><td>400000</td><td>      NA</td><td>    9071</td></tr>\n",
       "\t<tr><td>5,576</td><td>Apr 1, 1986 </td><td>My Beautiful Laundrette            </td><td>400000</td><td>      NA</td><td>      NA</td></tr>\n",
       "\t<tr><td>5,577</td><td>Nov 4, 2005 </td><td>Show Me                            </td><td>400000</td><td>      NA</td><td>      NA</td></tr>\n",
       "\t<tr><td>5,578</td><td>Unknown     </td><td>Pancakes                           </td><td>400000</td><td>      NA</td><td>      NA</td></tr>\n",
       "\t<tr><td>5,579</td><td>Sep 5, 1916 </td><td>Intolerance                        </td><td>385907</td><td>      NA</td><td>      NA</td></tr>\n",
       "\t<tr><td>5,580</td><td>Feb 1, 1929 </td><td>The Broadway Melody                </td><td>379000</td><td> 2800000</td><td> 4358000</td></tr>\n",
       "\t<tr><td>5,581</td><td>Apr 15, 1983</td><td>The Evil Dead                      </td><td>375000</td><td> 2400000</td><td>29400000</td></tr>\n",
       "\t<tr><td>5,582</td><td>May 21, 1999</td><td>Trekkies                           </td><td>375000</td><td>  617172</td><td>  617172</td></tr>\n",
       "\t<tr><td>5,583</td><td>1980        </td><td>Maniac                             </td><td>350000</td><td>10000000</td><td>10000000</td></tr>\n",
       "\t<tr><td>5,584</td><td>1987        </td><td>American Ninja 2: The Confrontation</td><td>350000</td><td> 4000000</td><td> 4000000</td></tr>\n",
       "\t<tr><td>5,585</td><td>Jul 8, 2005 </td><td>Murderball                         </td><td>350000</td><td> 1531154</td><td> 1772979</td></tr>\n",
       "\t<tr><td>5,586</td><td>Sep 1, 2010 </td><td>My Dog Tulip                       </td><td>350000</td><td>  246574</td><td>  310891</td></tr>\n",
       "\t<tr><td>5,587</td><td>Oct 18, 2006</td><td>51 Birch Street                    </td><td>350000</td><td>   84689</td><td>   84689</td></tr>\n",
       "\t<tr><td>5,588</td><td>Nov 15, 2002</td><td>Revolution#9                       </td><td>350000</td><td>    9118</td><td>    9118</td></tr>\n",
       "\t<tr><td>5,589</td><td>Apr 10, 2009</td><td>Royal Kill                         </td><td>350000</td><td>      NA</td><td>      NA</td></tr>\n",
       "\t<tr><td>5,590</td><td>Oct 20, 2015</td><td>Rotor DR1                          </td><td>350000</td><td>      NA</td><td>      NA</td></tr>\n",
       "\t<tr><td>5,591</td><td>Apr 13, 1957</td><td>12 Angry Men                       </td><td>340000</td><td>      NA</td><td>      NA</td></tr>\n",
       "\t<tr><td>5,592</td><td>Oct 17, 1978</td><td>Halloween                          </td><td>325000</td><td>47000000</td><td>70000000</td></tr>\n",
       "\t<tr><td>5,593</td><td>Feb 22, 1934</td><td>It Happened One Night              </td><td>325000</td><td> 2500000</td><td> 2500000</td></tr>\n",
       "\t<tr><td>5,594</td><td>Jun 25, 2010</td><td>Kynodontas                         </td><td>323000</td><td>  110248</td><td> 1373407</td></tr>\n",
       "\t<tr><td>5,595</td><td>Nov 24, 1999</td><td>Tumbleweeds                        </td><td>312000</td><td> 1350248</td><td> 1788168</td></tr>\n",
       "\t<tr><td>5,596</td><td>Nov 14, 2003</td><td>Tupac Resurrection                 </td><td>300000</td><td> 7718961</td><td> 7808524</td></tr>\n",
       "\t<tr><td>5,597</td><td>Mar 10, 2000</td><td>God's Army                         </td><td>300000</td><td> 2637726</td><td> 2652515</td></tr>\n",
       "\t<tr><td>5,598</td><td>Oct 17, 2003</td><td>Pieces of April                    </td><td>300000</td><td> 2528664</td><td> 3571253</td></tr>\n",
       "\t<tr><td>5,599</td><td>Sep 20, 1996</td><td>When The Cat's Away                </td><td>300000</td><td> 1652472</td><td> 2525984</td></tr>\n",
       "\t<tr><td>5,600</td><td>Dec 10, 2008</td><td>Wendy and Lucy                     </td><td>300000</td><td>  865695</td><td> 1416046</td></tr>\n",
       "</tbody>\n",
       "</table>\n"
      ],
      "text/latex": [
       "A data.frame: 5600 × 6\n",
       "\\begin{tabular}{r|llllll}\n",
       " Rank & ReleaseDate & Movie & ProductionBudget & DomesticGross & WorldwideGross\\\\\n",
       " <chr> & <chr> & <chr> & <dbl> & <dbl> & <dbl>\\\\\n",
       "\\hline\n",
       "\t 1  & Dec 17, 2009 & Avatar                                           & 425000000 & 760507625 & 2789705275\\\\\n",
       "\t 2  & May 20, 2011 & Pirates of the Caribbean: On Stranger Tides      & 410600000 & 241063875 & 1045663875\\\\\n",
       "\t 3  & Apr 23, 2019 & Avengers: Endgame                                & 400000000 & 858373000 & 2795473000\\\\\n",
       "\t 4  & Jun 5, 2019  & Dark Phoenix                                     & 350000000 &  65845974 &  246356895\\\\\n",
       "\t 5  & Apr 22, 2015 & Avengers: Age of Ultron                          & 330600000 & 459005868 & 1403013963\\\\\n",
       "\t 6  & Dec 13, 2017 & Star Wars Ep. VIII: The Last Jedi                & 317000000 & 620181382 & 1316721747\\\\\n",
       "\t 7  & Dec 16, 2015 & Star Wars Ep. VII: The Force Awakens             & 306000000 & 936662225 & 2053311220\\\\\n",
       "\t 8  & Apr 25, 2018 & Avengers: Infinity War                           & 300000000 & 678815482 & 2048134200\\\\\n",
       "\t 9  & May 24, 2007 & Pirates of the Caribbean: At World’s End         & 300000000 & 309420425 &  963420425\\\\\n",
       "\t 10 & Nov 13, 2017 & Justice League                                   & 300000000 & 229024295 &  655945209\\\\\n",
       "\t 11 & Oct 6, 2015  & Spectre                                          & 300000000 & 200074175 &  879620923\\\\\n",
       "\t 12 & Jul 19, 2012 & The Dark Knight Rises                            & 275000000 & 448139099 & 1084439099\\\\\n",
       "\t 13 & May 23, 2018 & Solo: A Star Wars Story                          & 275000000 & 213767512 &  393151347\\\\\n",
       "\t 14 & Jul 2, 2013  & The Lone Ranger                                  & 275000000 &  89302115 &  260002115\\\\\n",
       "\t 15 & Mar 7, 2012  & John Carter                                      & 275000000 &  73058679 &  282778100\\\\\n",
       "\t 16 & Nov 24, 2010 & Tangled                                          & 260000000 & 200821936 &  586477240\\\\\n",
       "\t 17 & May 4, 2007  & Spider-Man 3                                     & 258000000 & 336530303 &  894860230\\\\\n",
       "\t 18 & Apr 22, 2016 & Captain America: Civil War                       & 250000000 & 408084349 & 1140069413\\\\\n",
       "\t 19 & Mar 23, 2016 & Batman v Superman: Dawn of Justice               & 250000000 & 330360194 &  867500281\\\\\n",
       "\t 20 & Dec 11, 2012 & The Hobbit: An Unexpected Journey                & 250000000 & 303003568 & 1017003568\\\\\n",
       "\t 21 & Jul 15, 2009 & Harry Potter and the Half-Blood Prince           & 250000000 & 302089278 &  935213767\\\\\n",
       "\t 22 & Dec 13, 2013 & The Hobbit: The Desolation of Smaug              & 250000000 & 258366855 &  960366855\\\\\n",
       "\t 23 & Dec 10, 2014 & The Hobbit: The Battle of the Five Armies        & 250000000 & 255119788 &  945577621\\\\\n",
       "\t 24 & Apr 7, 2017  & The Fate of the Furious                          & 250000000 & 225764765 & 1234846267\\\\\n",
       "\t 25 & Jun 28, 2006 & Superman Returns                                 & 232000000 & 200120000 &  374085065\\\\\n",
       "\t 26 & May 23, 2017 & Pirates of the Caribbean: Dead Men Tell No Tales & 230000000 & 172558876 &  788241137\\\\\n",
       "\t 27 & Nov 14, 2008 & Quantum of Solace                                & 230000000 & 169368427 &  591692078\\\\\n",
       "\t 28 & Apr 25, 2012 & The Avengers                                     & 225000000 & 623279547 & 1517935897\\\\\n",
       "\t 29 & Jul 7, 2006  & Pirates of the Caribbean: Dead Man’s Chest       & 225000000 & 423315812 & 1066215812\\\\\n",
       "\t 30 & Jun 14, 2013 & Man of Steel                                     & 225000000 & 291045518 &  667999518\\\\\n",
       "\t ⋮ & ⋮ & ⋮ & ⋮ & ⋮ & ⋮\\\\\n",
       "\t 5,571 & May 16, 1980 & Home Movies                         & 400000 &    89134 &    89134\\\\\n",
       "\t 5,572 & Jul 27, 2001 & Jackpot                             & 400000 &    44452 &    44452\\\\\n",
       "\t 5,573 & Dec 10, 2004 & Fabled                              & 400000 &    31425 &    31425\\\\\n",
       "\t 5,574 & Oct 13, 2005 & The Dark Hours                      & 400000 &      423 &      423\\\\\n",
       "\t 5,575 & Dec 19, 1973 & Viskningar och rop                  & 400000 &       NA &     9071\\\\\n",
       "\t 5,576 & Apr 1, 1986  & My Beautiful Laundrette             & 400000 &       NA &       NA\\\\\n",
       "\t 5,577 & Nov 4, 2005  & Show Me                             & 400000 &       NA &       NA\\\\\n",
       "\t 5,578 & Unknown      & Pancakes                            & 400000 &       NA &       NA\\\\\n",
       "\t 5,579 & Sep 5, 1916  & Intolerance                         & 385907 &       NA &       NA\\\\\n",
       "\t 5,580 & Feb 1, 1929  & The Broadway Melody                 & 379000 &  2800000 &  4358000\\\\\n",
       "\t 5,581 & Apr 15, 1983 & The Evil Dead                       & 375000 &  2400000 & 29400000\\\\\n",
       "\t 5,582 & May 21, 1999 & Trekkies                            & 375000 &   617172 &   617172\\\\\n",
       "\t 5,583 & 1980         & Maniac                              & 350000 & 10000000 & 10000000\\\\\n",
       "\t 5,584 & 1987         & American Ninja 2: The Confrontation & 350000 &  4000000 &  4000000\\\\\n",
       "\t 5,585 & Jul 8, 2005  & Murderball                          & 350000 &  1531154 &  1772979\\\\\n",
       "\t 5,586 & Sep 1, 2010  & My Dog Tulip                        & 350000 &   246574 &   310891\\\\\n",
       "\t 5,587 & Oct 18, 2006 & 51 Birch Street                     & 350000 &    84689 &    84689\\\\\n",
       "\t 5,588 & Nov 15, 2002 & Revolution\\#9                        & 350000 &     9118 &     9118\\\\\n",
       "\t 5,589 & Apr 10, 2009 & Royal Kill                          & 350000 &       NA &       NA\\\\\n",
       "\t 5,590 & Oct 20, 2015 & Rotor DR1                           & 350000 &       NA &       NA\\\\\n",
       "\t 5,591 & Apr 13, 1957 & 12 Angry Men                        & 340000 &       NA &       NA\\\\\n",
       "\t 5,592 & Oct 17, 1978 & Halloween                           & 325000 & 47000000 & 70000000\\\\\n",
       "\t 5,593 & Feb 22, 1934 & It Happened One Night               & 325000 &  2500000 &  2500000\\\\\n",
       "\t 5,594 & Jun 25, 2010 & Kynodontas                          & 323000 &   110248 &  1373407\\\\\n",
       "\t 5,595 & Nov 24, 1999 & Tumbleweeds                         & 312000 &  1350248 &  1788168\\\\\n",
       "\t 5,596 & Nov 14, 2003 & Tupac Resurrection                  & 300000 &  7718961 &  7808524\\\\\n",
       "\t 5,597 & Mar 10, 2000 & God's Army                          & 300000 &  2637726 &  2652515\\\\\n",
       "\t 5,598 & Oct 17, 2003 & Pieces of April                     & 300000 &  2528664 &  3571253\\\\\n",
       "\t 5,599 & Sep 20, 1996 & When The Cat's Away                 & 300000 &  1652472 &  2525984\\\\\n",
       "\t 5,600 & Dec 10, 2008 & Wendy and Lucy                      & 300000 &   865695 &  1416046\\\\\n",
       "\\end{tabular}\n"
      ],
      "text/markdown": [
       "\n",
       "A data.frame: 5600 × 6\n",
       "\n",
       "| Rank &lt;chr&gt; | ReleaseDate &lt;chr&gt; | Movie &lt;chr&gt; | ProductionBudget &lt;dbl&gt; | DomesticGross &lt;dbl&gt; | WorldwideGross &lt;dbl&gt; |\n",
       "|---|---|---|---|---|---|\n",
       "| 1  | Dec 17, 2009 | Avatar                                           | 425000000 | 760507625 | 2789705275 |\n",
       "| 2  | May 20, 2011 | Pirates of the Caribbean: On Stranger Tides      | 410600000 | 241063875 | 1045663875 |\n",
       "| 3  | Apr 23, 2019 | Avengers: Endgame                                | 400000000 | 858373000 | 2795473000 |\n",
       "| 4  | Jun 5, 2019  | Dark Phoenix                                     | 350000000 |  65845974 |  246356895 |\n",
       "| 5  | Apr 22, 2015 | Avengers: Age of Ultron                          | 330600000 | 459005868 | 1403013963 |\n",
       "| 6  | Dec 13, 2017 | Star Wars Ep. VIII: The Last Jedi                | 317000000 | 620181382 | 1316721747 |\n",
       "| 7  | Dec 16, 2015 | Star Wars Ep. VII: The Force Awakens             | 306000000 | 936662225 | 2053311220 |\n",
       "| 8  | Apr 25, 2018 | Avengers: Infinity War                           | 300000000 | 678815482 | 2048134200 |\n",
       "| 9  | May 24, 2007 | Pirates of the Caribbean: At World’s End         | 300000000 | 309420425 |  963420425 |\n",
       "| 10 | Nov 13, 2017 | Justice League                                   | 300000000 | 229024295 |  655945209 |\n",
       "| 11 | Oct 6, 2015  | Spectre                                          | 300000000 | 200074175 |  879620923 |\n",
       "| 12 | Jul 19, 2012 | The Dark Knight Rises                            | 275000000 | 448139099 | 1084439099 |\n",
       "| 13 | May 23, 2018 | Solo: A Star Wars Story                          | 275000000 | 213767512 |  393151347 |\n",
       "| 14 | Jul 2, 2013  | The Lone Ranger                                  | 275000000 |  89302115 |  260002115 |\n",
       "| 15 | Mar 7, 2012  | John Carter                                      | 275000000 |  73058679 |  282778100 |\n",
       "| 16 | Nov 24, 2010 | Tangled                                          | 260000000 | 200821936 |  586477240 |\n",
       "| 17 | May 4, 2007  | Spider-Man 3                                     | 258000000 | 336530303 |  894860230 |\n",
       "| 18 | Apr 22, 2016 | Captain America: Civil War                       | 250000000 | 408084349 | 1140069413 |\n",
       "| 19 | Mar 23, 2016 | Batman v Superman: Dawn of Justice               | 250000000 | 330360194 |  867500281 |\n",
       "| 20 | Dec 11, 2012 | The Hobbit: An Unexpected Journey                | 250000000 | 303003568 | 1017003568 |\n",
       "| 21 | Jul 15, 2009 | Harry Potter and the Half-Blood Prince           | 250000000 | 302089278 |  935213767 |\n",
       "| 22 | Dec 13, 2013 | The Hobbit: The Desolation of Smaug              | 250000000 | 258366855 |  960366855 |\n",
       "| 23 | Dec 10, 2014 | The Hobbit: The Battle of the Five Armies        | 250000000 | 255119788 |  945577621 |\n",
       "| 24 | Apr 7, 2017  | The Fate of the Furious                          | 250000000 | 225764765 | 1234846267 |\n",
       "| 25 | Jun 28, 2006 | Superman Returns                                 | 232000000 | 200120000 |  374085065 |\n",
       "| 26 | May 23, 2017 | Pirates of the Caribbean: Dead Men Tell No Tales | 230000000 | 172558876 |  788241137 |\n",
       "| 27 | Nov 14, 2008 | Quantum of Solace                                | 230000000 | 169368427 |  591692078 |\n",
       "| 28 | Apr 25, 2012 | The Avengers                                     | 225000000 | 623279547 | 1517935897 |\n",
       "| 29 | Jul 7, 2006  | Pirates of the Caribbean: Dead Man’s Chest       | 225000000 | 423315812 | 1066215812 |\n",
       "| 30 | Jun 14, 2013 | Man of Steel                                     | 225000000 | 291045518 |  667999518 |\n",
       "| ⋮ | ⋮ | ⋮ | ⋮ | ⋮ | ⋮ |\n",
       "| 5,571 | May 16, 1980 | Home Movies                         | 400000 |    89134 |    89134 |\n",
       "| 5,572 | Jul 27, 2001 | Jackpot                             | 400000 |    44452 |    44452 |\n",
       "| 5,573 | Dec 10, 2004 | Fabled                              | 400000 |    31425 |    31425 |\n",
       "| 5,574 | Oct 13, 2005 | The Dark Hours                      | 400000 |      423 |      423 |\n",
       "| 5,575 | Dec 19, 1973 | Viskningar och rop                  | 400000 |       NA |     9071 |\n",
       "| 5,576 | Apr 1, 1986  | My Beautiful Laundrette             | 400000 |       NA |       NA |\n",
       "| 5,577 | Nov 4, 2005  | Show Me                             | 400000 |       NA |       NA |\n",
       "| 5,578 | Unknown      | Pancakes                            | 400000 |       NA |       NA |\n",
       "| 5,579 | Sep 5, 1916  | Intolerance                         | 385907 |       NA |       NA |\n",
       "| 5,580 | Feb 1, 1929  | The Broadway Melody                 | 379000 |  2800000 |  4358000 |\n",
       "| 5,581 | Apr 15, 1983 | The Evil Dead                       | 375000 |  2400000 | 29400000 |\n",
       "| 5,582 | May 21, 1999 | Trekkies                            | 375000 |   617172 |   617172 |\n",
       "| 5,583 | 1980         | Maniac                              | 350000 | 10000000 | 10000000 |\n",
       "| 5,584 | 1987         | American Ninja 2: The Confrontation | 350000 |  4000000 |  4000000 |\n",
       "| 5,585 | Jul 8, 2005  | Murderball                          | 350000 |  1531154 |  1772979 |\n",
       "| 5,586 | Sep 1, 2010  | My Dog Tulip                        | 350000 |   246574 |   310891 |\n",
       "| 5,587 | Oct 18, 2006 | 51 Birch Street                     | 350000 |    84689 |    84689 |\n",
       "| 5,588 | Nov 15, 2002 | Revolution#9                        | 350000 |     9118 |     9118 |\n",
       "| 5,589 | Apr 10, 2009 | Royal Kill                          | 350000 |       NA |       NA |\n",
       "| 5,590 | Oct 20, 2015 | Rotor DR1                           | 350000 |       NA |       NA |\n",
       "| 5,591 | Apr 13, 1957 | 12 Angry Men                        | 340000 |       NA |       NA |\n",
       "| 5,592 | Oct 17, 1978 | Halloween                           | 325000 | 47000000 | 70000000 |\n",
       "| 5,593 | Feb 22, 1934 | It Happened One Night               | 325000 |  2500000 |  2500000 |\n",
       "| 5,594 | Jun 25, 2010 | Kynodontas                          | 323000 |   110248 |  1373407 |\n",
       "| 5,595 | Nov 24, 1999 | Tumbleweeds                         | 312000 |  1350248 |  1788168 |\n",
       "| 5,596 | Nov 14, 2003 | Tupac Resurrection                  | 300000 |  7718961 |  7808524 |\n",
       "| 5,597 | Mar 10, 2000 | God's Army                          | 300000 |  2637726 |  2652515 |\n",
       "| 5,598 | Oct 17, 2003 | Pieces of April                     | 300000 |  2528664 |  3571253 |\n",
       "| 5,599 | Sep 20, 1996 | When The Cat's Away                 | 300000 |  1652472 |  2525984 |\n",
       "| 5,600 | Dec 10, 2008 | Wendy and Lucy                      | 300000 |   865695 |  1416046 |\n",
       "\n"
      ],
      "text/plain": [
       "     Rank  ReleaseDate  Movie                                           \n",
       "1    1     Dec 17, 2009 Avatar                                          \n",
       "2    2     May 20, 2011 Pirates of the Caribbean: On Stranger Tides     \n",
       "3    3     Apr 23, 2019 Avengers: Endgame                               \n",
       "4    4     Jun 5, 2019  Dark Phoenix                                    \n",
       "5    5     Apr 22, 2015 Avengers: Age of Ultron                         \n",
       "6    6     Dec 13, 2017 Star Wars Ep. VIII: The Last Jedi               \n",
       "7    7     Dec 16, 2015 Star Wars Ep. VII: The Force Awakens            \n",
       "8    8     Apr 25, 2018 Avengers: Infinity War                          \n",
       "9    9     May 24, 2007 Pirates of the Caribbean: At World’s End        \n",
       "10   10    Nov 13, 2017 Justice League                                  \n",
       "11   11    Oct 6, 2015  Spectre                                         \n",
       "12   12    Jul 19, 2012 The Dark Knight Rises                           \n",
       "13   13    May 23, 2018 Solo: A Star Wars Story                         \n",
       "14   14    Jul 2, 2013  The Lone Ranger                                 \n",
       "15   15    Mar 7, 2012  John Carter                                     \n",
       "16   16    Nov 24, 2010 Tangled                                         \n",
       "17   17    May 4, 2007  Spider-Man 3                                    \n",
       "18   18    Apr 22, 2016 Captain America: Civil War                      \n",
       "19   19    Mar 23, 2016 Batman v Superman: Dawn of Justice              \n",
       "20   20    Dec 11, 2012 The Hobbit: An Unexpected Journey               \n",
       "21   21    Jul 15, 2009 Harry Potter and the Half-Blood Prince          \n",
       "22   22    Dec 13, 2013 The Hobbit: The Desolation of Smaug             \n",
       "23   23    Dec 10, 2014 The Hobbit: The Battle of the Five Armies       \n",
       "24   24    Apr 7, 2017  The Fate of the Furious                         \n",
       "25   25    Jun 28, 2006 Superman Returns                                \n",
       "26   26    May 23, 2017 Pirates of the Caribbean: Dead Men Tell No Tales\n",
       "27   27    Nov 14, 2008 Quantum of Solace                               \n",
       "28   28    Apr 25, 2012 The Avengers                                    \n",
       "29   29    Jul 7, 2006  Pirates of the Caribbean: Dead Man’s Chest      \n",
       "30   30    Jun 14, 2013 Man of Steel                                    \n",
       "⋮    ⋮     ⋮            ⋮                                               \n",
       "5571 5,571 May 16, 1980 Home Movies                                     \n",
       "5572 5,572 Jul 27, 2001 Jackpot                                         \n",
       "5573 5,573 Dec 10, 2004 Fabled                                          \n",
       "5574 5,574 Oct 13, 2005 The Dark Hours                                  \n",
       "5575 5,575 Dec 19, 1973 Viskningar och rop                              \n",
       "5576 5,576 Apr 1, 1986  My Beautiful Laundrette                         \n",
       "5577 5,577 Nov 4, 2005  Show Me                                         \n",
       "5578 5,578 Unknown      Pancakes                                        \n",
       "5579 5,579 Sep 5, 1916  Intolerance                                     \n",
       "5580 5,580 Feb 1, 1929  The Broadway Melody                             \n",
       "5581 5,581 Apr 15, 1983 The Evil Dead                                   \n",
       "5582 5,582 May 21, 1999 Trekkies                                        \n",
       "5583 5,583 1980         Maniac                                          \n",
       "5584 5,584 1987         American Ninja 2: The Confrontation             \n",
       "5585 5,585 Jul 8, 2005  Murderball                                      \n",
       "5586 5,586 Sep 1, 2010  My Dog Tulip                                    \n",
       "5587 5,587 Oct 18, 2006 51 Birch Street                                 \n",
       "5588 5,588 Nov 15, 2002 Revolution#9                                    \n",
       "5589 5,589 Apr 10, 2009 Royal Kill                                      \n",
       "5590 5,590 Oct 20, 2015 Rotor DR1                                       \n",
       "5591 5,591 Apr 13, 1957 12 Angry Men                                    \n",
       "5592 5,592 Oct 17, 1978 Halloween                                       \n",
       "5593 5,593 Feb 22, 1934 It Happened One Night                           \n",
       "5594 5,594 Jun 25, 2010 Kynodontas                                      \n",
       "5595 5,595 Nov 24, 1999 Tumbleweeds                                     \n",
       "5596 5,596 Nov 14, 2003 Tupac Resurrection                              \n",
       "5597 5,597 Mar 10, 2000 God's Army                                      \n",
       "5598 5,598 Oct 17, 2003 Pieces of April                                 \n",
       "5599 5,599 Sep 20, 1996 When The Cat's Away                             \n",
       "5600 5,600 Dec 10, 2008 Wendy and Lucy                                  \n",
       "     ProductionBudget DomesticGross WorldwideGross\n",
       "1    425000000        760507625     2789705275    \n",
       "2    410600000        241063875     1045663875    \n",
       "3    400000000        858373000     2795473000    \n",
       "4    350000000         65845974      246356895    \n",
       "5    330600000        459005868     1403013963    \n",
       "6    317000000        620181382     1316721747    \n",
       "7    306000000        936662225     2053311220    \n",
       "8    300000000        678815482     2048134200    \n",
       "9    300000000        309420425      963420425    \n",
       "10   300000000        229024295      655945209    \n",
       "11   300000000        200074175      879620923    \n",
       "12   275000000        448139099     1084439099    \n",
       "13   275000000        213767512      393151347    \n",
       "14   275000000         89302115      260002115    \n",
       "15   275000000         73058679      282778100    \n",
       "16   260000000        200821936      586477240    \n",
       "17   258000000        336530303      894860230    \n",
       "18   250000000        408084349     1140069413    \n",
       "19   250000000        330360194      867500281    \n",
       "20   250000000        303003568     1017003568    \n",
       "21   250000000        302089278      935213767    \n",
       "22   250000000        258366855      960366855    \n",
       "23   250000000        255119788      945577621    \n",
       "24   250000000        225764765     1234846267    \n",
       "25   232000000        200120000      374085065    \n",
       "26   230000000        172558876      788241137    \n",
       "27   230000000        169368427      591692078    \n",
       "28   225000000        623279547     1517935897    \n",
       "29   225000000        423315812     1066215812    \n",
       "30   225000000        291045518      667999518    \n",
       "⋮    ⋮                ⋮             ⋮             \n",
       "5571 400000              89134         89134      \n",
       "5572 400000              44452         44452      \n",
       "5573 400000              31425         31425      \n",
       "5574 400000                423           423      \n",
       "5575 400000                 NA          9071      \n",
       "5576 400000                 NA            NA      \n",
       "5577 400000                 NA            NA      \n",
       "5578 400000                 NA            NA      \n",
       "5579 385907                 NA            NA      \n",
       "5580 379000            2800000       4358000      \n",
       "5581 375000            2400000      29400000      \n",
       "5582 375000             617172        617172      \n",
       "5583 350000           10000000      10000000      \n",
       "5584 350000            4000000       4000000      \n",
       "5585 350000            1531154       1772979      \n",
       "5586 350000             246574        310891      \n",
       "5587 350000              84689         84689      \n",
       "5588 350000               9118          9118      \n",
       "5589 350000                 NA            NA      \n",
       "5590 350000                 NA            NA      \n",
       "5591 340000                 NA            NA      \n",
       "5592 325000           47000000      70000000      \n",
       "5593 325000            2500000       2500000      \n",
       "5594 323000             110248       1373407      \n",
       "5595 312000            1350248       1788168      \n",
       "5596 300000            7718961       7808524      \n",
       "5597 300000            2637726       2652515      \n",
       "5598 300000            2528664       3571253      \n",
       "5599 300000            1652472       2525984      \n",
       "5600 300000             865695       1416046      "
      ]
     },
     "metadata": {},
     "output_type": "display_data"
    }
   ],
   "source": [
    "names(df)[names(df) == 'Var.1'] <- 'Rank' # change the variable to something useful, found how to do this from https://stackoverflow.com/questions/7531868/how-to-rename-a-single-column-in-a-data-frame second answer. \n",
    "#The following functions have used this link as a reference: https://stackoverflow.com/questions/31944103/convert-currency-with-commas-into-numeric\n",
    "df$ProductionBudget <- as.numeric(gsub('[$,]', '', df$ProductionBudget))\n",
    "df$DomesticGross <- as.numeric(gsub('[$,]', '', df$DomesticGross))\n",
    "df$WorldwideGross <- as.numeric(gsub('[$,]', '', df$WorldwideGross))\n",
    "df <- na_if(df, 0)\n",
    "df"
   ]
  },
  {
   "cell_type": "code",
   "execution_count": null,
   "metadata": {},
   "outputs": [],
   "source": []
  }
 ],
 "metadata": {
  "kernelspec": {
   "display_name": "R",
   "language": "R",
   "name": "ir"
  },
  "language_info": {
   "codemirror_mode": "r",
   "file_extension": ".r",
   "mimetype": "text/x-r-source",
   "name": "R",
   "pygments_lexer": "r",
   "version": "3.6.1"
  }
 },
 "nbformat": 4,
 "nbformat_minor": 4
}
